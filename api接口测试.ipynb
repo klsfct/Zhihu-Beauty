{
 "cells": [
  {
   "cell_type": "code",
   "execution_count": 1,
   "metadata": {
    "scrolled": true
   },
   "outputs": [
    {
     "name": "stdout",
     "output_type": "stream",
     "text": [
      "{\"refresh_token\":\"25.33bd7af35a9283fd236aa55eecc77d69.315360000.1867124031.282335-15684400\",\"expires_in\":2592000,\"session_key\":\"9mzdCPHWefPC5UmdiX4JMi\\/df0Os0OPR+g36tTBApWK2iqCU4OjIYfHIkox5Zu7PSQ+lVqiOXw\\/ZvQcr+y1kGXdtwHfz3g==\",\"access_token\":\"24.358b25b13fff49a27fe0041fb2ecbc6e.2592000.1554356031.282335-15684400\",\"scope\":\"public brain_all_scope vis-faceverify_faceverify_h5-face-liveness vis-faceverify_FACE_V3 wise_adapt lebo_resource_base lightservice_public hetu_basic lightcms_map_poi kaidian_kaidian ApsMisTest_Test\\u6743\\u9650 vis-classify_flower lpq_\\u5f00\\u653e cop_helloScope ApsMis_fangdi_permission smartapp_snsapi_base iop_autocar oauth_tp_app smartapp_smart_game_openapi oauth_sessionkey smartapp_swanid_verify smartapp_opensource_openapi\",\"session_secret\":\"d91c8a37406d70c84a71d8099a6e6544\"}\n",
      "\n"
     ]
    }
   ],
   "source": [
    "import requests\n",
    "\n",
    "# API_Key和Secret_Key，需要登录百度AI平台建立项目获取\n",
    "API_Key = 'XXXXXXXXXX'\n",
    "Secret_Key = 'XXXXXXXXXX'\n",
    "\n",
    "host = 'https://aip.baidubce.com/oauth/2.0/token?grant_type=client_credentials&client_id={}&client_secret={}'.format(API_Key,Secret_Key)\n",
    "\n",
    "response = requests.post(host)\n",
    "print(response.text)"
   ]
  },
  {
   "cell_type": "code",
   "execution_count": 11,
   "metadata": {},
   "outputs": [
    {
     "name": "stdout",
     "output_type": "stream",
     "text": [
      "female 83.8\n"
     ]
    }
   ],
   "source": [
    "import base64\n",
    "import json\n",
    "\n",
    "access_token = \"24.358b25b13fff49a27fe0041fb2ecbc6e.2592000.1554356031.282335-15684400\"\n",
    "\n",
    "def get_img_base(file):\n",
    "    with open(file, 'rb') as f:\n",
    "        content = base64.b64encode(f.read())\n",
    "        return content\n",
    "    \n",
    "request_url = 'https://aip.baidubce.com/rest/2.0/face/v3/detect'\n",
    "request_url = request_url + '?access_token=' + access_token\n",
    "\n",
    "params = {\n",
    "    'image': get_img_base('yifei.jpg'),\n",
    "    'image_type': 'BASE64',\n",
    "    'face_field': 'age,beauty,gender'\n",
    "}\n",
    "\n",
    "response = requests.post(request_url,data=params)\n",
    "json_result = json.loads(response.text)\n",
    "#print(json_result )\n",
    "gender = json_result['result']['face_list'][0]['gender']['type']\n",
    "beauty = json_result['result']['face_list'][0]['beauty']\n",
    "print(gender,beauty)\n",
    "\n",
    "# 刘亦菲得分83.8"
   ]
  }
 ],
 "metadata": {
  "kernelspec": {
   "display_name": "Python 3",
   "language": "python",
   "name": "python3"
  },
  "language_info": {
   "codemirror_mode": {
    "name": "ipython",
    "version": 3
   },
   "file_extension": ".py",
   "mimetype": "text/x-python",
   "name": "python",
   "nbconvert_exporter": "python",
   "pygments_lexer": "ipython3",
   "version": "3.7.1"
  }
 },
 "nbformat": 4,
 "nbformat_minor": 2
}
